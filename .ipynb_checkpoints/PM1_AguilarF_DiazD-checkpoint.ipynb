{
 "cells": [
  {
   "cell_type": "markdown",
   "metadata": {},
   "source": [
    "# PROYECTO MÓDULO 1\n",
    "\n",
    "## Optimización en la venta de cementos"
   ]
  },
  {
   "cell_type": "markdown",
   "metadata": {},
   "source": [
    "## Objetivos\n",
    "\n",
    "**CEMENTERA**\n",
    "\n",
    "Productos: \n",
    "\n",
    "* *Cemento Mampostería*\n",
    "* *Cemento Especificaciones Especiales*\n",
    "\n",
    "> A la cementera le toma los siguientes tiempos realizar un costal de cada tipo:\n",
    ">\n",
    "> * 5 minutos hacer 1 costal de Cemento Mampostería\n",
    "> * 10 minutos hacer 1 costal de Cemento Especificaciones Especiales.\n",
    "\n",
    "La planta opera 5 horas por dia, de lunes a viernes.\n",
    "\n",
    "Para producir el cemento se necesitan materias primas como rocas, yeso, grava, cal y difrentes minerales.\n",
    "\n",
    "La materia prima con la que se cuenta permite hacer 500 unidades por semana, además la cementera solo tiene permiso de fabricar 180 costales de Cemento de Mampostería.\n",
    "\n",
    "> La utilidad que le deja cada clase de cemento es: \n",
    "> * Cemento Mamposteria utilidad de \\$50 por costal. \n",
    ">\n",
    "> * Cemento de Especificaciones Especiales es de $70 por costal.\n",
    ">\n",
    "> ¿Cuántos costales de mamosteria y de especificaciones especiales necesitan fabricar a la semana para obtener la ganacia maxima?\n",
    "\n",
    "\n",
    "**Objetivo Principal**\n",
    "\n",
    "* Obtener las ganancias máximas en la venta de cementos.\n",
    "\n",
    "**Objetivo Específicos**\n",
    "\n",
    "* Conocer la cantidad de cemento a fabricar de cada clase, de acuerdo a nuestras materias primas y otras limitantes de fabricación."
   ]
  },
  {
   "cell_type": "markdown",
   "metadata": {},
   "source": [
    "## Modelo del problema\n",
    "\n",
    "**Función a Optimizar**\n",
    "\n",
    "$$50x_1 + 70x_2$$\n",
    "\n",
    "*Buscamos la cantidad optima a producir de cada clase de cemento a la semana para obtener las máximas ganancias posibles.*\n",
    "\n",
    "Donde:\n",
    "\n",
    "- $x_1$ es la cantidad de costales de Cemento de Mamposteria\n",
    "- $x_2$ es la cantidad de costales de Cemento de Específicaciones Especiales\n",
    "\n",
    "**Restricción de tiempo:**\n",
    "\n",
    "- $5x_1 + 10x_1 \\leq 1500$\n",
    "\n",
    "*Expresamos el tiempo total con el que se cuenta a la semana para trabajar, expresada en minutos.*\n",
    "\n",
    "**Restricción de materia prima:**\n",
    "\n",
    "- $x_1 + x_2 \\leq 500$\n",
    "\n",
    "*Se muestra la cantidad máxima que la cementera puede producir a la semana, de acuerdo a las materias primas con las que cuenta.*\n",
    "\n",
    "**Restricción de producción:**\n",
    "\n",
    "- $x_1 \\leq 180$\n",
    "\n",
    "*Se muestra la cantidad máxima permita de cemento de mamposteria que se tiene permitido producir.*"
   ]
  },
  {
   "cell_type": "markdown",
   "metadata": {},
   "source": [
    "## Solución del problema"
   ]
  },
  {
   "cell_type": "code",
   "execution_count": 2,
   "metadata": {},
   "outputs": [],
   "source": [
    "# Importamos todas las librerías que necesitaremos\n",
    "\n",
    "import numpy as np\n",
    "import scipy.optimize as opt\n",
    "import matplotlib.pyplot as plt\n",
    "%matplotlib inline"
   ]
  },
  {
   "cell_type": "code",
   "execution_count": 6,
   "metadata": {},
   "outputs": [],
   "source": [
    "# Crearmos las mátrices para resolver el problema\n",
    "\n",
    "c = np.array([-50,-70])\n",
    "\n",
    "A = np.array([[5,10],[1,1],[1,0]])\n",
    "\n",
    "b = np.array([1500,500,180])"
   ]
  },
  {
   "cell_type": "code",
   "execution_count": 7,
   "metadata": {},
   "outputs": [],
   "source": [
    "# Resolvemos el problema con la función linprog\n",
    "\n",
    "solucion = opt.linprog(c,A,b)"
   ]
  },
  {
   "cell_type": "code",
   "execution_count": 8,
   "metadata": {},
   "outputs": [
    {
     "data": {
      "text/plain": [
       "     con: array([], dtype=float64)\n",
       "     fun: -13200.0\n",
       " message: 'Optimization terminated successfully.'\n",
       "     nit: 3\n",
       "   slack: array([  0., 260.,   0.])\n",
       "  status: 0\n",
       " success: True\n",
       "       x: array([180.,  60.])"
      ]
     },
     "execution_count": 8,
     "metadata": {},
     "output_type": "execute_result"
    }
   ],
   "source": [
    "solucion"
   ]
  },
  {
   "cell_type": "code",
   "execution_count": null,
   "metadata": {},
   "outputs": [],
   "source": []
  },
  {
   "cell_type": "code",
   "execution_count": null,
   "metadata": {},
   "outputs": [],
   "source": [
    "#Definimos la función de costo y las funciones de las restricciones\n",
    "\n",
    "def fun_max(x1,x2):\n",
    "    return 50*x1 + 70*x2\n",
    "\n",
    "def r1(x1):\n",
    "    return (300-2*x1)/7\n",
    "\n",
    "def r2(x1):\n",
    "    return 90-x1\n"
   ]
  },
  {
   "cell_type": "code",
   "execution_count": null,
   "metadata": {},
   "outputs": [],
   "source": []
  }
 ],
 "metadata": {
  "kernelspec": {
   "display_name": "Python 3",
   "language": "python",
   "name": "python3"
  },
  "language_info": {
   "codemirror_mode": {
    "name": "ipython",
    "version": 3
   },
   "file_extension": ".py",
   "mimetype": "text/x-python",
   "name": "python",
   "nbconvert_exporter": "python",
   "pygments_lexer": "ipython3",
   "version": "3.7.3"
  }
 },
 "nbformat": 4,
 "nbformat_minor": 2
}
